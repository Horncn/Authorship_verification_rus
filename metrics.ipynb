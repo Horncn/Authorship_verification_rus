{
 "cells": [
  {
   "cell_type": "code",
   "execution_count": 1,
   "metadata": {},
   "outputs": [],
   "source": [
    "from sklearn.metrics import classification_report, confusion_matrix\n",
    "from sklearn.model_selection import train_test_split\n",
    "from tensorflow import keras\n",
    "import numpy as np"
   ]
  },
  {
   "cell_type": "code",
   "execution_count": 2,
   "metadata": {},
   "outputs": [
    {
     "name": "stdout",
     "output_type": "stream",
     "text": [
      "12280/12280 [==============================] - 3s 227us/step\n"
     ]
    }
   ],
   "source": [
    "with open('data_sm.npy', 'rb') as fl:\n",
    "    train_data = np.load(fl)\n",
    "    train_labels = np.load(fl)\n",
    "_, x_test, _, y_test = train_test_split(train_data, train_labels, train_size=0.8)\n",
    "model = keras.models.load_model('model')\n",
    "y_test = y_test.argmax(axis=1)\n",
    "y_pred = model.predict(x_test, batch_size=2, verbose=1)\n",
    "y_pred = np.argmax(y_pred, axis=1)\n",
    "\n"
   ]
  },
  {
   "cell_type": "code",
   "execution_count": 3,
   "metadata": {},
   "outputs": [
    {
     "name": "stdout",
     "output_type": "stream",
     "text": [
      "              precision    recall  f1-score   support\n",
      "\n",
      "           0       0.76      0.61      0.68      8260\n",
      "           1       0.82      0.90      0.86     16300\n",
      "\n",
      "    accuracy                           0.80     24560\n",
      "   macro avg       0.79      0.76      0.77     24560\n",
      "weighted avg       0.80      0.80      0.80     24560\n",
      "\n"
     ]
    }
   ],
   "source": [
    "print(classification_report(y_test, y_pred))"
   ]
  },
  {
   "cell_type": "code",
   "execution_count": 4,
   "metadata": {},
   "outputs": [
    {
     "data": {
      "text/plain": [
       "array([[ 5062,  3198],\n",
       "       [ 1605, 14695]], dtype=int64)"
      ]
     },
     "execution_count": 4,
     "metadata": {},
     "output_type": "execute_result"
    }
   ],
   "source": [
    "confusion_matrix(y_test, y_pred)"
   ]
  },
  {
   "cell_type": "code",
   "execution_count": null,
   "metadata": {},
   "outputs": [],
   "source": []
  }
 ],
 "metadata": {
  "kernelspec": {
   "display_name": "Python 3",
   "language": "python",
   "name": "python3"
  },
  "language_info": {
   "codemirror_mode": {
    "name": "ipython",
    "version": 3
   },
   "file_extension": ".py",
   "mimetype": "text/x-python",
   "name": "python",
   "nbconvert_exporter": "python",
   "pygments_lexer": "ipython3",
   "version": "3.8.6"
  }
 },
 "nbformat": 4,
 "nbformat_minor": 4
}
