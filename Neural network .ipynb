{
 "cells": [
  {
   "cell_type": "code",
   "execution_count": 1,
   "metadata": {},
   "outputs": [],
   "source": [
    "from simple import train_model\n",
    "import numpy as np\n",
    "def load_train_data():\n",
    "    with open('data_all.npy', 'rb') as fl:\n",
    "        a = np.load(fl)\n",
    "        b = np.load(fl)\n",
    "    return a, b"
   ]
  },
  {
   "cell_type": "code",
   "execution_count": 2,
   "metadata": {},
   "outputs": [
    {
     "name": "stdout",
     "output_type": "stream",
     "text": [
      "INFO:tensorflow:Assets written to: model\\assets\n",
      "24415/24415 [==============================] - 7s 297us/step\n",
      "              precision    recall  f1-score   support\n",
      "\n",
      "           0       0.79      0.73      0.76     16390\n",
      "           1       0.87      0.90      0.88     32440\n",
      "\n",
      "    accuracy                           0.84     48830\n",
      "   macro avg       0.83      0.81      0.82     48830\n",
      "weighted avg       0.84      0.84      0.84     48830\n",
      "\n",
      "[[11917  4473]\n",
      " [ 3178 29262]]\n",
      "AUC 0.8145621070560454\n",
      "f05 0.7761495375797838\n"
     ]
    }
   ],
   "source": [
    "data, labels = load_train_data()\n",
    "train_model(data, labels, verbose=0)"
   ]
  },
  {
   "cell_type": "code",
   "execution_count": null,
   "metadata": {},
   "outputs": [],
   "source": []
  }
 ],
 "metadata": {
  "kernelspec": {
   "display_name": "Python 3",
   "language": "python",
   "name": "python3"
  },
  "language_info": {
   "codemirror_mode": {
    "name": "ipython",
    "version": 3
   },
   "file_extension": ".py",
   "mimetype": "text/x-python",
   "name": "python",
   "nbconvert_exporter": "python",
   "pygments_lexer": "ipython3",
   "version": "3.8.6"
  }
 },
 "nbformat": 4,
 "nbformat_minor": 4
}
